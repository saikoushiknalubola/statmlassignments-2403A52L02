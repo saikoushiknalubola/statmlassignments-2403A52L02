{
  "nbformat": 4,
  "nbformat_minor": 0,
  "metadata": {
    "colab": {
      "provenance": []
    },
    "kernelspec": {
      "name": "python3",
      "display_name": "Python 3"
    },
    "language_info": {
      "name": "python"
    }
  },
  "cells": [
    {
      "cell_type": "code",
      "source": [
        "import pandas as pd\n",
        "\n",
        "# Load the dataset\n",
        "df = pd.read_csv('/content/sample_data/california_housing_test.csv')\n",
        "\n",
        "# Display the first few rows of the dataset\n",
        "print(df.head())\n"
      ],
      "metadata": {
        "colab": {
          "base_uri": "https://localhost:8080/"
        },
        "id": "N9ONh9lT5SIC",
        "outputId": "7686d697-55b6-4465-c747-3c021cfcfaeb"
      },
      "execution_count": 6,
      "outputs": [
        {
          "output_type": "stream",
          "name": "stdout",
          "text": [
            "   longitude  latitude  housing_median_age  total_rooms  total_bedrooms  \\\n",
            "0    -122.05     37.37                27.0       3885.0           661.0   \n",
            "1    -118.30     34.26                43.0       1510.0           310.0   \n",
            "2    -117.81     33.78                27.0       3589.0           507.0   \n",
            "3    -118.36     33.82                28.0         67.0            15.0   \n",
            "4    -119.67     36.33                19.0       1241.0           244.0   \n",
            "\n",
            "   population  households  median_income  median_house_value  \n",
            "0      1537.0       606.0         6.6085            344700.0  \n",
            "1       809.0       277.0         3.5990            176500.0  \n",
            "2      1484.0       495.0         5.7934            270500.0  \n",
            "3        49.0        11.0         6.1359            330000.0  \n",
            "4       850.0       237.0         2.9375             81700.0  \n"
          ]
        }
      ]
    },
    {
      "cell_type": "code",
      "source": [
        "import numpy as np\n",
        "\n",
        "# Calculate the mean of the median_house_value\n",
        "mean_value = np.mean(df['median_house_value'])\n",
        "\n",
        "# Calculate standard deviation\n",
        "std_dev = np.std(df['median_house_value'])\n",
        "\n",
        "# Display results\n",
        "print(f\"Mean House Value: {mean_value}\")\n",
        "print(f\"Standard Deviation: {std_dev}\")\n"
      ],
      "metadata": {
        "id": "BT1Pk3g-6O1k"
      },
      "execution_count": null,
      "outputs": []
    },
    {
      "cell_type": "code",
      "source": [
        "import matplotlib.pyplot as plt\n",
        "\n",
        "# Scatter plot of median_income vs median_house_value\n",
        "plt.scatter(df['median_income'], df['median_house_value'], alpha=0.5)\n",
        "plt.title('Median Income vs Median House Value')\n",
        "plt.xlabel('Median Income')\n",
        "plt.ylabel('Median House Value')\n",
        "plt.show()\n"
      ],
      "metadata": {
        "id": "PWqKrNmi6RCf"
      },
      "execution_count": null,
      "outputs": []
    },
    {
      "cell_type": "code",
      "source": [
        "# Dataset\n",
        "X = [2.3, 2.5, 3.6, 2.8, 3.1, 2.9, 3.2, 2.7, 2.8, 3.0]\n",
        "\n",
        "# Plot histogram\n",
        "plt.hist(X, bins=5, edgecolor='black')\n",
        "plt.title('Histogram of X')\n",
        "plt.xlabel('Value')\n",
        "plt.ylabel('Frequency')\n",
        "plt.show()\n"
      ],
      "metadata": {
        "id": "usn__7vw6Ses"
      },
      "execution_count": null,
      "outputs": []
    },
    {
      "cell_type": "code",
      "source": [
        "from scipy import stats\n",
        "\n",
        "# Independent and dependent variables\n",
        "x = [4, 5, 5, 6, 8, 3, 2, 8, 4, 3, 2, 7, 5, 8]\n",
        "y = [4, 5, 5, 6, 8, 3, 2, 8, 4, 3, 2, 7, 5, 8]\n",
        "\n",
        "# Calculate statistics\n",
        "mean_x = np.mean(x)\n",
        "median_x = np.median(x)\n",
        "mode_x = stats.mode(x, keepdims=False).mode\n",
        "variance_x = np.var(x)\n",
        "std_dev_x = np.std(x)\n",
        "range_x = np.ptp(x)\n",
        "iqr_x = stats.iqr(x)\n",
        "skewness_x = stats.skew(x)\n",
        "kurtosis_x = stats.kurtosis(x)\n",
        "\n",
        "# Display results\n",
        "print(f\"Mean: {mean_x}, Median: {median_x}, Mode: {mode_x}\")\n",
        "print(f\"Variance: {variance_x}, Standard Deviation: {std_dev_x}\")\n",
        "print(f\"Range: {range_x}, IQR: {iqr_x}, Skewness: {skewness_x}, Kurtosis: {kurtosis_x}\")\n"
      ],
      "metadata": {
        "colab": {
          "base_uri": "https://localhost:8080/"
        },
        "id": "Gykc58L86T4l",
        "outputId": "e0937175-6167-4cc1-873f-84340d6842cc"
      },
      "execution_count": 17,
      "outputs": [
        {
          "output_type": "stream",
          "name": "stdout",
          "text": [
            "Mean: 5.0, Median: 5.0, Mode: 5\n",
            "Variance: 4.285714285714286, Standard Deviation: 2.0701966780270626\n",
            "Range: 6, IQR: 3.5, Skewness: 0.14491376746189438, Kurtosis: -1.2266666666666666\n"
          ]
        }
      ]
    },
    {
      "cell_type": "code",
      "source": [],
      "metadata": {
        "id": "JACunkC96VlP"
      },
      "execution_count": null,
      "outputs": []
    }
  ]
}